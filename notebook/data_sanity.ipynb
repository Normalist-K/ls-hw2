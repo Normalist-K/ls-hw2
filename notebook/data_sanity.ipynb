{
 "cells": [
  {
   "cell_type": "code",
   "execution_count": 1,
   "metadata": {},
   "outputs": [
    {
     "name": "stderr",
     "output_type": "stream",
     "text": [
      "/root/anaconda3/envs/ls-hw2/lib/python3.9/site-packages/tqdm/auto.py:22: TqdmWarning: IProgress not found. Please update jupyter and ipywidgets. See https://ipywidgets.readthedocs.io/en/stable/user_install.html\n",
      "  from .autonotebook import tqdm as notebook_tqdm\n"
     ]
    }
   ],
   "source": [
    "import os\n",
    "import os.path as osp\n",
    "import numpy as np\n",
    "import pandas as pd\n",
    "\n",
    "from pyturbo import Stage, Task\n",
    "from torchvision.io import read_video\n",
    "\n",
    "import sys\n",
    "sys.path.append('/root/class/cmu/LSMA/ls-hw2/code')"
   ]
  },
  {
   "cell_type": "code",
   "execution_count": 2,
   "metadata": {},
   "outputs": [],
   "source": [
    "DATA_BASE_DIR = '/shared/youngkim/'\n",
    "P1_DATA_DIR = osp.join(DATA_BASE_DIR,'dataset')\n",
    "P2_DATA_DIR = osp.join(DATA_BASE_DIR,'ls-hw2')"
   ]
  },
  {
   "cell_type": "code",
   "execution_count": 3,
   "metadata": {},
   "outputs": [
    {
     "data": {
      "text/html": [
       "<div>\n",
       "<style scoped>\n",
       "    .dataframe tbody tr th:only-of-type {\n",
       "        vertical-align: middle;\n",
       "    }\n",
       "\n",
       "    .dataframe tbody tr th {\n",
       "        vertical-align: top;\n",
       "    }\n",
       "\n",
       "    .dataframe thead th {\n",
       "        text-align: right;\n",
       "    }\n",
       "</style>\n",
       "<table border=\"1\" class=\"dataframe\">\n",
       "  <thead>\n",
       "    <tr style=\"text-align: right;\">\n",
       "      <th></th>\n",
       "      <th>Id</th>\n",
       "      <th>Category</th>\n",
       "    </tr>\n",
       "  </thead>\n",
       "  <tbody>\n",
       "    <tr>\n",
       "      <th>0</th>\n",
       "      <td>NjUzNjkxMTk0MzI5NDYwNTA2NA==</td>\n",
       "      <td>0</td>\n",
       "    </tr>\n",
       "    <tr>\n",
       "      <th>1</th>\n",
       "      <td>LTcxNTE1MDY1Mjc5NzMxMTExNDI=</td>\n",
       "      <td>0</td>\n",
       "    </tr>\n",
       "    <tr>\n",
       "      <th>2</th>\n",
       "      <td>NTMyNTQxODcwODc5MjU2NDk4NA==</td>\n",
       "      <td>0</td>\n",
       "    </tr>\n",
       "    <tr>\n",
       "      <th>3</th>\n",
       "      <td>LTY0NjAxNjcyNTUyNDI5Mzc2MTE=</td>\n",
       "      <td>0</td>\n",
       "    </tr>\n",
       "    <tr>\n",
       "      <th>4</th>\n",
       "      <td>NTgzMjc4Mzk0MjQwMzYyMjA1NQ==</td>\n",
       "      <td>0</td>\n",
       "    </tr>\n",
       "    <tr>\n",
       "      <th>...</th>\n",
       "      <td>...</td>\n",
       "      <td>...</td>\n",
       "    </tr>\n",
       "    <tr>\n",
       "      <th>7495</th>\n",
       "      <td>LTUxMTQ5Mjg2OTQyNjgyMTc1NzA=</td>\n",
       "      <td>14</td>\n",
       "    </tr>\n",
       "    <tr>\n",
       "      <th>7496</th>\n",
       "      <td>NDA2NjM0NDg5MDc3NzM3NjQ5OA==</td>\n",
       "      <td>14</td>\n",
       "    </tr>\n",
       "    <tr>\n",
       "      <th>7497</th>\n",
       "      <td>LTEwMzgyODQzNTYwMjM5NDY3NzI=</td>\n",
       "      <td>14</td>\n",
       "    </tr>\n",
       "    <tr>\n",
       "      <th>7498</th>\n",
       "      <td>LTQzOTI1MDQ1OTQ3NzUyMjQ4Mg==</td>\n",
       "      <td>14</td>\n",
       "    </tr>\n",
       "    <tr>\n",
       "      <th>7499</th>\n",
       "      <td>LTIwMTA2OTMzMjU2MzMyNzExMDA=</td>\n",
       "      <td>14</td>\n",
       "    </tr>\n",
       "  </tbody>\n",
       "</table>\n",
       "<p>7500 rows × 2 columns</p>\n",
       "</div>"
      ],
      "text/plain": [
       "                                Id  Category\n",
       "0     NjUzNjkxMTk0MzI5NDYwNTA2NA==         0\n",
       "1     LTcxNTE1MDY1Mjc5NzMxMTExNDI=         0\n",
       "2     NTMyNTQxODcwODc5MjU2NDk4NA==         0\n",
       "3     LTY0NjAxNjcyNTUyNDI5Mzc2MTE=         0\n",
       "4     NTgzMjc4Mzk0MjQwMzYyMjA1NQ==         0\n",
       "...                            ...       ...\n",
       "7495  LTUxMTQ5Mjg2OTQyNjgyMTc1NzA=        14\n",
       "7496  NDA2NjM0NDg5MDc3NzM3NjQ5OA==        14\n",
       "7497  LTEwMzgyODQzNTYwMjM5NDY3NzI=        14\n",
       "7498  LTQzOTI1MDQ1OTQ3NzUyMjQ4Mg==        14\n",
       "7499  LTIwMTA2OTMzMjU2MzMyNzExMDA=        14\n",
       "\n",
       "[7500 rows x 2 columns]"
      ]
     },
     "execution_count": 3,
     "metadata": {},
     "output_type": "execute_result"
    }
   ],
   "source": [
    "train_df = pd.read_csv(osp.join(P1_DATA_DIR, 'labels/train_val.csv'))\n",
    "train_df"
   ]
  },
  {
   "cell_type": "code",
   "execution_count": 15,
   "metadata": {},
   "outputs": [
    {
     "data": {
      "text/html": [
       "<div>\n",
       "<style scoped>\n",
       "    .dataframe tbody tr th:only-of-type {\n",
       "        vertical-align: middle;\n",
       "    }\n",
       "\n",
       "    .dataframe tbody tr th {\n",
       "        vertical-align: top;\n",
       "    }\n",
       "\n",
       "    .dataframe thead th {\n",
       "        text-align: right;\n",
       "    }\n",
       "</style>\n",
       "<table border=\"1\" class=\"dataframe\">\n",
       "  <thead>\n",
       "    <tr style=\"text-align: right;\">\n",
       "      <th></th>\n",
       "      <th>Id</th>\n",
       "      <th>Category</th>\n",
       "    </tr>\n",
       "  </thead>\n",
       "  <tbody>\n",
       "    <tr>\n",
       "      <th>0</th>\n",
       "      <td>LTExODM2Mzc0ODQyOTc1ODE4NDM=</td>\n",
       "      <td>NaN</td>\n",
       "    </tr>\n",
       "    <tr>\n",
       "      <th>1</th>\n",
       "      <td>LTUwNDU3NzgyNjE2Mzk0OTU1NjQ=</td>\n",
       "      <td>NaN</td>\n",
       "    </tr>\n",
       "    <tr>\n",
       "      <th>2</th>\n",
       "      <td>ODU3OTE0MDU5NzM5NDI2MDQ2</td>\n",
       "      <td>NaN</td>\n",
       "    </tr>\n",
       "    <tr>\n",
       "      <th>3</th>\n",
       "      <td>LTQ4OTE2NDk5ODk4MTA3NDY5Mzg=</td>\n",
       "      <td>NaN</td>\n",
       "    </tr>\n",
       "    <tr>\n",
       "      <th>4</th>\n",
       "      <td>MjkzNzMwNzkxNTg5NDA1Mjk3NQ==</td>\n",
       "      <td>NaN</td>\n",
       "    </tr>\n",
       "    <tr>\n",
       "      <th>...</th>\n",
       "      <td>...</td>\n",
       "      <td>...</td>\n",
       "    </tr>\n",
       "    <tr>\n",
       "      <th>744</th>\n",
       "      <td>Nzk0NzA0MjYxMTg3NDkxNjQ4OQ==</td>\n",
       "      <td>NaN</td>\n",
       "    </tr>\n",
       "    <tr>\n",
       "      <th>745</th>\n",
       "      <td>LTMzMjA0NjkyNzYwMDQ0NDUyNzY=</td>\n",
       "      <td>NaN</td>\n",
       "    </tr>\n",
       "    <tr>\n",
       "      <th>746</th>\n",
       "      <td>LTQxNDgxNjU0MzY3OTQzNzIzMTc=</td>\n",
       "      <td>NaN</td>\n",
       "    </tr>\n",
       "    <tr>\n",
       "      <th>747</th>\n",
       "      <td>NjQyMjk5MDM5OTgwNzY2NDU1MQ==</td>\n",
       "      <td>NaN</td>\n",
       "    </tr>\n",
       "    <tr>\n",
       "      <th>748</th>\n",
       "      <td>LTk2NzY1NzIyNTY3MzIxMDkyOA==</td>\n",
       "      <td>NaN</td>\n",
       "    </tr>\n",
       "  </tbody>\n",
       "</table>\n",
       "<p>749 rows × 2 columns</p>\n",
       "</div>"
      ],
      "text/plain": [
       "                               Id  Category\n",
       "0    LTExODM2Mzc0ODQyOTc1ODE4NDM=       NaN\n",
       "1    LTUwNDU3NzgyNjE2Mzk0OTU1NjQ=       NaN\n",
       "2        ODU3OTE0MDU5NzM5NDI2MDQ2       NaN\n",
       "3    LTQ4OTE2NDk5ODk4MTA3NDY5Mzg=       NaN\n",
       "4    MjkzNzMwNzkxNTg5NDA1Mjk3NQ==       NaN\n",
       "..                            ...       ...\n",
       "744  Nzk0NzA0MjYxMTg3NDkxNjQ4OQ==       NaN\n",
       "745  LTMzMjA0NjkyNzYwMDQ0NDUyNzY=       NaN\n",
       "746  LTQxNDgxNjU0MzY3OTQzNzIzMTc=       NaN\n",
       "747  NjQyMjk5MDM5OTgwNzY2NDU1MQ==       NaN\n",
       "748  LTk2NzY1NzIyNTY3MzIxMDkyOA==       NaN\n",
       "\n",
       "[749 rows x 2 columns]"
      ]
     },
     "execution_count": 15,
     "metadata": {},
     "output_type": "execute_result"
    }
   ],
   "source": [
    "test_df = pd.read_csv(osp.join(P1_DATA_DIR, 'labels/test_for_students.csv'))\n",
    "test_df"
   ]
  },
  {
   "cell_type": "code",
   "execution_count": 12,
   "metadata": {},
   "outputs": [
    {
     "data": {
      "text/html": [
       "<div>\n",
       "<style scoped>\n",
       "    .dataframe tbody tr th:only-of-type {\n",
       "        vertical-align: middle;\n",
       "    }\n",
       "\n",
       "    .dataframe tbody tr th {\n",
       "        vertical-align: top;\n",
       "    }\n",
       "\n",
       "    .dataframe thead th {\n",
       "        text-align: right;\n",
       "    }\n",
       "</style>\n",
       "<table border=\"1\" class=\"dataframe\">\n",
       "  <thead>\n",
       "    <tr style=\"text-align: right;\">\n",
       "      <th></th>\n",
       "      <th>Id</th>\n",
       "      <th>Category</th>\n",
       "    </tr>\n",
       "  </thead>\n",
       "  <tbody>\n",
       "    <tr>\n",
       "      <th>0</th>\n",
       "      <td>LTI3ODUwNDg0ODQ3ODU5NjMyMzE=</td>\n",
       "      <td>NaN</td>\n",
       "    </tr>\n",
       "    <tr>\n",
       "      <th>1</th>\n",
       "      <td>LTE2NjkzNTE4MTkyMzQxNzcwMDY=</td>\n",
       "      <td>NaN</td>\n",
       "    </tr>\n",
       "    <tr>\n",
       "      <th>2</th>\n",
       "      <td>LTMxMDkxNDczMTM3NTQxNTE0MzE=</td>\n",
       "      <td>NaN</td>\n",
       "    </tr>\n",
       "    <tr>\n",
       "      <th>3</th>\n",
       "      <td>LTY4MjcyMzQ2MzE0MjMxNzk2ODA=</td>\n",
       "      <td>NaN</td>\n",
       "    </tr>\n",
       "    <tr>\n",
       "      <th>4</th>\n",
       "      <td>LTQwOTc4NzQ4MjY0NDI5NjAyMDc=</td>\n",
       "      <td>NaN</td>\n",
       "    </tr>\n",
       "    <tr>\n",
       "      <th>...</th>\n",
       "      <td>...</td>\n",
       "      <td>...</td>\n",
       "    </tr>\n",
       "    <tr>\n",
       "      <th>29689</th>\n",
       "      <td>LTgyMjIxOTg3NTEzNDM5OTM1MDM=</td>\n",
       "      <td>NaN</td>\n",
       "    </tr>\n",
       "    <tr>\n",
       "      <th>29690</th>\n",
       "      <td>LTc4MjY5OTAwODA2MDE3OTk4NjY=</td>\n",
       "      <td>NaN</td>\n",
       "    </tr>\n",
       "    <tr>\n",
       "      <th>29691</th>\n",
       "      <td>LTE0MTUxMzY4OTc3OTY1MzY5Mjg=</td>\n",
       "      <td>NaN</td>\n",
       "    </tr>\n",
       "    <tr>\n",
       "      <th>29692</th>\n",
       "      <td>LTIyODkwNDQ5OTkwMDUzODcwODc=</td>\n",
       "      <td>NaN</td>\n",
       "    </tr>\n",
       "    <tr>\n",
       "      <th>29693</th>\n",
       "      <td>ODUwNDkyMDIzNTI0OTE0MjU5NA==</td>\n",
       "      <td>NaN</td>\n",
       "    </tr>\n",
       "  </tbody>\n",
       "</table>\n",
       "<p>29694 rows × 2 columns</p>\n",
       "</div>"
      ],
      "text/plain": [
       "                                 Id  Category\n",
       "0      LTI3ODUwNDg0ODQ3ODU5NjMyMzE=       NaN\n",
       "1      LTE2NjkzNTE4MTkyMzQxNzcwMDY=       NaN\n",
       "2      LTMxMDkxNDczMTM3NTQxNTE0MzE=       NaN\n",
       "3      LTY4MjcyMzQ2MzE0MjMxNzk2ODA=       NaN\n",
       "4      LTQwOTc4NzQ4MjY0NDI5NjAyMDc=       NaN\n",
       "...                             ...       ...\n",
       "29689  LTgyMjIxOTg3NTEzNDM5OTM1MDM=       NaN\n",
       "29690  LTc4MjY5OTAwODA2MDE3OTk4NjY=       NaN\n",
       "29691  LTE0MTUxMzY4OTc3OTY1MzY5Mjg=       NaN\n",
       "29692  LTIyODkwNDQ5OTkwMDUzODcwODc=       NaN\n",
       "29693  ODUwNDkyMDIzNTI0OTE0MjU5NA==       NaN\n",
       "\n",
       "[29694 rows x 2 columns]"
      ]
     },
     "execution_count": 12,
     "metadata": {},
     "output_type": "execute_result"
    }
   ],
   "source": [
    "p2_test_df = pd.read_csv(osp.join(P2_DATA_DIR, 'labels_p2/test_for_students.csv'))\n",
    "p2_test_df"
   ]
  },
  {
   "cell_type": "code",
   "execution_count": 8,
   "metadata": {},
   "outputs": [
    {
     "data": {
      "text/plain": [
       "8249"
      ]
     },
     "execution_count": 8,
     "metadata": {},
     "output_type": "execute_result"
    }
   ],
   "source": [
    "len(os.listdir(osp.join(P1_DATA_DIR, 'videos')))"
   ]
  },
  {
   "cell_type": "code",
   "execution_count": 13,
   "metadata": {},
   "outputs": [
    {
     "data": {
      "text/plain": [
       "29694"
      ]
     },
     "execution_count": 13,
     "metadata": {},
     "output_type": "execute_result"
    }
   ],
   "source": [
    "len(os.listdir(osp.join(P2_DATA_DIR,'videos_p2')))"
   ]
  },
  {
   "cell_type": "code",
   "execution_count": 23,
   "metadata": {},
   "outputs": [],
   "source": [
    "# p1_data_df = pd.concat([train_df, test_df], ignore_index=True)\n",
    "# p1_data_df.to_csv(osp.join(P1_DATA_DIR, 'labels/total.csv'), index=False)"
   ]
  },
  {
   "cell_type": "code",
   "execution_count": 5,
   "metadata": {},
   "outputs": [
    {
     "data": {
      "text/html": [
       "<div>\n",
       "<style scoped>\n",
       "    .dataframe tbody tr th:only-of-type {\n",
       "        vertical-align: middle;\n",
       "    }\n",
       "\n",
       "    .dataframe tbody tr th {\n",
       "        vertical-align: top;\n",
       "    }\n",
       "\n",
       "    .dataframe thead th {\n",
       "        text-align: right;\n",
       "    }\n",
       "</style>\n",
       "<table border=\"1\" class=\"dataframe\">\n",
       "  <thead>\n",
       "    <tr style=\"text-align: right;\">\n",
       "      <th></th>\n",
       "      <th>Id</th>\n",
       "      <th>Category</th>\n",
       "    </tr>\n",
       "  </thead>\n",
       "  <tbody>\n",
       "    <tr>\n",
       "      <th>0</th>\n",
       "      <td>NjUzNjkxMTk0MzI5NDYwNTA2NA==</td>\n",
       "      <td>0.0</td>\n",
       "    </tr>\n",
       "    <tr>\n",
       "      <th>1</th>\n",
       "      <td>LTcxNTE1MDY1Mjc5NzMxMTExNDI=</td>\n",
       "      <td>0.0</td>\n",
       "    </tr>\n",
       "    <tr>\n",
       "      <th>2</th>\n",
       "      <td>NTMyNTQxODcwODc5MjU2NDk4NA==</td>\n",
       "      <td>0.0</td>\n",
       "    </tr>\n",
       "    <tr>\n",
       "      <th>3</th>\n",
       "      <td>LTY0NjAxNjcyNTUyNDI5Mzc2MTE=</td>\n",
       "      <td>0.0</td>\n",
       "    </tr>\n",
       "    <tr>\n",
       "      <th>4</th>\n",
       "      <td>NTgzMjc4Mzk0MjQwMzYyMjA1NQ==</td>\n",
       "      <td>0.0</td>\n",
       "    </tr>\n",
       "    <tr>\n",
       "      <th>...</th>\n",
       "      <td>...</td>\n",
       "      <td>...</td>\n",
       "    </tr>\n",
       "    <tr>\n",
       "      <th>8244</th>\n",
       "      <td>Nzk0NzA0MjYxMTg3NDkxNjQ4OQ==</td>\n",
       "      <td>NaN</td>\n",
       "    </tr>\n",
       "    <tr>\n",
       "      <th>8245</th>\n",
       "      <td>LTMzMjA0NjkyNzYwMDQ0NDUyNzY=</td>\n",
       "      <td>NaN</td>\n",
       "    </tr>\n",
       "    <tr>\n",
       "      <th>8246</th>\n",
       "      <td>LTQxNDgxNjU0MzY3OTQzNzIzMTc=</td>\n",
       "      <td>NaN</td>\n",
       "    </tr>\n",
       "    <tr>\n",
       "      <th>8247</th>\n",
       "      <td>NjQyMjk5MDM5OTgwNzY2NDU1MQ==</td>\n",
       "      <td>NaN</td>\n",
       "    </tr>\n",
       "    <tr>\n",
       "      <th>8248</th>\n",
       "      <td>LTk2NzY1NzIyNTY3MzIxMDkyOA==</td>\n",
       "      <td>NaN</td>\n",
       "    </tr>\n",
       "  </tbody>\n",
       "</table>\n",
       "<p>8249 rows × 2 columns</p>\n",
       "</div>"
      ],
      "text/plain": [
       "                                Id  Category\n",
       "0     NjUzNjkxMTk0MzI5NDYwNTA2NA==       0.0\n",
       "1     LTcxNTE1MDY1Mjc5NzMxMTExNDI=       0.0\n",
       "2     NTMyNTQxODcwODc5MjU2NDk4NA==       0.0\n",
       "3     LTY0NjAxNjcyNTUyNDI5Mzc2MTE=       0.0\n",
       "4     NTgzMjc4Mzk0MjQwMzYyMjA1NQ==       0.0\n",
       "...                            ...       ...\n",
       "8244  Nzk0NzA0MjYxMTg3NDkxNjQ4OQ==       NaN\n",
       "8245  LTMzMjA0NjkyNzYwMDQ0NDUyNzY=       NaN\n",
       "8246  LTQxNDgxNjU0MzY3OTQzNzIzMTc=       NaN\n",
       "8247  NjQyMjk5MDM5OTgwNzY2NDU1MQ==       NaN\n",
       "8248  LTk2NzY1NzIyNTY3MzIxMDkyOA==       NaN\n",
       "\n",
       "[8249 rows x 2 columns]"
      ]
     },
     "execution_count": 5,
     "metadata": {},
     "output_type": "execute_result"
    }
   ],
   "source": [
    "p1_total_df = pd.read_csv(osp.join(P1_DATA_DIR, 'labels/total.csv'))\n",
    "p1_total_df"
   ]
  },
  {
   "cell_type": "code",
   "execution_count": 20,
   "metadata": {},
   "outputs": [],
   "source": [
    "subset_df = p1_total_df.iloc[:420,:]\n",
    "subset_df.to_csv(osp.join(P1_DATA_DIR, 'labels/subset.csv'), index=False)"
   ]
  },
  {
   "cell_type": "code",
   "execution_count": 11,
   "metadata": {},
   "outputs": [
    {
     "data": {
      "text/plain": [
       "{'Mjg0MDgxODgzMDUyOTk3NjE2OA=='}"
      ]
     },
     "execution_count": 11,
     "metadata": {},
     "output_type": "execute_result"
    }
   ],
   "source": [
    "set(p1_total_df.Id.tolist()) - set([p.split('.')[0] for p in os.listdir(osp.join(P1_DATA_DIR,'bow_sift_128'))])"
   ]
  },
  {
   "cell_type": "code",
   "execution_count": 6,
   "metadata": {},
   "outputs": [
    {
     "data": {
      "text/plain": [
       "{'Mjg0MDgxODgzMDUyOTk3NjE2OA=='}"
      ]
     },
     "execution_count": 6,
     "metadata": {},
     "output_type": "execute_result"
    }
   ],
   "source": [
    "set(p1_total_df.Id.tolist()) - set([p.split('.')[0] for p in os.listdir(osp.join(P1_DATA_DIR,'cnn_resnet50'))])"
   ]
  },
  {
   "cell_type": "code",
   "execution_count": 16,
   "metadata": {},
   "outputs": [
    {
     "data": {
      "text/plain": [
       "False"
      ]
     },
     "execution_count": 16,
     "metadata": {},
     "output_type": "execute_result"
    }
   ],
   "source": [
    "'OTkzNjg0NTg5ODY2NTMxNzQ0' in test_df.Id.tolist()"
   ]
  },
  {
   "cell_type": "code",
   "execution_count": 7,
   "metadata": {},
   "outputs": [
    {
     "data": {
      "text/plain": [
       "False"
      ]
     },
     "execution_count": 7,
     "metadata": {},
     "output_type": "execute_result"
    }
   ],
   "source": [
    "'OTkzNjg0NTg5ODY2NTMxNzQ0' in [p.split('.')[0] for p in os.listdir(osp.join(P1_DATA_DIR,'cnn_resnet50'))]"
   ]
  },
  {
   "cell_type": "code",
   "execution_count": 18,
   "metadata": {},
   "outputs": [
    {
     "data": {
      "text/plain": [
       "(tensor([], size=(0, 1, 1, 3), dtype=torch.uint8), tensor([], size=(1, 0)), {})"
      ]
     },
     "execution_count": 18,
     "metadata": {},
     "output_type": "execute_result"
    }
   ],
   "source": [
    "data_path = '/shared/youngkim/ls-hw2'\n",
    "file_name = 'LTI3NTA5MjY3MDQwMTgwMDg5MjY=.mp4'\n",
    "video_path = osp.join(data_path, 'videos_p2')\n",
    "sift_path = osp.join(data_path, 'sift')\n",
    "read_video(osp.join(video_path, file_name))"
   ]
  },
  {
   "cell_type": "code",
   "execution_count": 22,
   "metadata": {},
   "outputs": [
    {
     "data": {
      "text/plain": [
       "'NjYwNzAxMTMwMTIzMTcxNjQzNQ==.pkl'"
      ]
     },
     "execution_count": 22,
     "metadata": {},
     "output_type": "execute_result"
    }
   ],
   "source": [
    "os.listdir(sift_path)[0]"
   ]
  },
  {
   "cell_type": "code",
   "execution_count": 25,
   "metadata": {},
   "outputs": [],
   "source": [
    "video_not_found = set([p.split('.')[0] for p in os.listdir(video_path)]) - set([p.split('.')[0] for p in os.listdir(sift_path)])"
   ]
  },
  {
   "cell_type": "code",
   "execution_count": 26,
   "metadata": {},
   "outputs": [
    {
     "data": {
      "text/plain": [
       "{'LTI3NTA5MjY3MDQwMTgwMDg5MjY=',\n",
       " 'NjM0NTkzODMwMTIzMDAyOTcwNg==',\n",
       " 'NzIyODk0Mjc2MTE4OTM3NTk4',\n",
       " 'ODU0NjMxNTczMDI0MTQwMjE5MA=='}"
      ]
     },
     "execution_count": 26,
     "metadata": {},
     "output_type": "execute_result"
    }
   ],
   "source": [
    "video_not_found"
   ]
  },
  {
   "cell_type": "code",
   "execution_count": null,
   "metadata": {},
   "outputs": [],
   "source": []
  },
  {
   "cell_type": "code",
   "execution_count": null,
   "metadata": {},
   "outputs": [],
   "source": []
  },
  {
   "cell_type": "code",
   "execution_count": null,
   "metadata": {},
   "outputs": [],
   "source": []
  },
  {
   "cell_type": "code",
   "execution_count": null,
   "metadata": {},
   "outputs": [],
   "source": []
  },
  {
   "cell_type": "code",
   "execution_count": null,
   "metadata": {},
   "outputs": [],
   "source": []
  }
 ],
 "metadata": {
  "interpreter": {
   "hash": "15f12055f1ef29a5453e4d58ba5168643ce1e0f0400ac5c4e1c5a77e8d2f4219"
  },
  "kernelspec": {
   "display_name": "Python 3.9.7 ('ls-hw2')",
   "language": "python",
   "name": "python3"
  },
  "language_info": {
   "codemirror_mode": {
    "name": "ipython",
    "version": 3
   },
   "file_extension": ".py",
   "mimetype": "text/x-python",
   "name": "python",
   "nbconvert_exporter": "python",
   "pygments_lexer": "ipython3",
   "version": "3.9.7"
  },
  "orig_nbformat": 4
 },
 "nbformat": 4,
 "nbformat_minor": 2
}
