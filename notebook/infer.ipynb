{
 "cells": [
  {
   "cell_type": "code",
   "execution_count": 1,
   "metadata": {},
   "outputs": [
    {
     "name": "stderr",
     "output_type": "stream",
     "text": [
      "/root/anaconda3/envs/ls-hw2/lib/python3.9/site-packages/tqdm/auto.py:22: TqdmWarning: IProgress not found. Please update jupyter and ipywidgets. See https://ipywidgets.readthedocs.io/en/stable/user_install.html\n",
      "  from .autonotebook import tqdm as notebook_tqdm\n"
     ]
    }
   ],
   "source": [
    "import psutil\n",
    "from tqdm import tqdm\n",
    "import pandas as pd\n",
    "import torch\n",
    "from torch.utils.data import DataLoader\n",
    "\n",
    "import sys\n",
    "sys.path.append('/root/class/cmu/LSMA/ls-hw2/code')\n",
    "from modules import FeatureDataModule, MlpClassifier, FeatureDataset"
   ]
  },
  {
   "cell_type": "code",
   "execution_count": 2,
   "metadata": {},
   "outputs": [],
   "source": [
    "best_model_path = '/shared/youngkim/dataset/mlp/cnn/version_2/checkpoints/epoch=30-step=371-val_acc=0.9440.ckpt'\n",
    "model = MlpClassifier.load_from_checkpoint(best_model_path)"
   ]
  },
  {
   "cell_type": "code",
   "execution_count": 3,
   "metadata": {},
   "outputs": [],
   "source": [
    "p2_df_path = '/shared/youngkim/ls-hw2/labels_p2/test_for_students.csv'\n",
    "p2_df = pd.read_csv(p2_df_path)\n",
    "feature_dir = '/shared/youngkim/ls-hw2/cnn_b4'\n",
    "dataset = FeatureDataset(df=p2_df, feature_dir=feature_dir, p2=True)\n",
    "dataloader = DataLoader(dataset, batch_size=512, drop_last=False, shuffle=False,\n",
    "                        pin_memory=True, num_workers=len(psutil.Process().cpu_affinity()))"
   ]
  },
  {
   "cell_type": "code",
   "execution_count": 4,
   "metadata": {},
   "outputs": [],
   "source": [
    "def inference(model, device, test_loader):\n",
    "    model.eval()\n",
    "    pred_y_list = []\n",
    "    for data, _ in tqdm(test_loader, total=len(test_loader), desc='Infer', position=0, leave=True):\n",
    "        data = data.to(device)\n",
    "        \n",
    "        with torch.no_grad():\n",
    "            output = model(data)\n",
    "            pred = output.argmax(dim=-1)\n",
    "\n",
    "        pred_y_list.extend(pred.tolist())\n",
    "\n",
    "    return pred_y_list"
   ]
  },
  {
   "cell_type": "code",
   "execution_count": 5,
   "metadata": {},
   "outputs": [
    {
     "name": "stderr",
     "output_type": "stream",
     "text": [
      "Infer: 100%|██████████| 58/58 [01:46<00:00,  1.84s/it]  \n"
     ]
    }
   ],
   "source": [
    "device = torch.device('cuda' if torch.cuda.is_available() else \"cpu\")\n",
    "\n",
    "preds = inference(model.to(device), device, dataloader)"
   ]
  },
  {
   "cell_type": "code",
   "execution_count": 6,
   "metadata": {},
   "outputs": [
    {
     "data": {
      "text/plain": [
       "(29694, 29694)"
      ]
     },
     "execution_count": 6,
     "metadata": {},
     "output_type": "execute_result"
    }
   ],
   "source": [
    "len(preds), len(p2_df)"
   ]
  },
  {
   "cell_type": "code",
   "execution_count": 7,
   "metadata": {},
   "outputs": [
    {
     "name": "stdout",
     "output_type": "stream",
     "text": [
      "Output file: /shared/youngkim/ls-hw2/infer/eff_b4_test_prediction.csv\n"
     ]
    }
   ],
   "source": [
    "df = p2_df.copy()\n",
    "df['Category'] = preds\n",
    "prediction_path = '/shared/youngkim/ls-hw2/infer/eff_b4_test_prediction.csv'\n",
    "df.to_csv(prediction_path, index=False)\n",
    "print('Output file:', prediction_path)"
   ]
  }
 ],
 "metadata": {
  "interpreter": {
   "hash": "15f12055f1ef29a5453e4d58ba5168643ce1e0f0400ac5c4e1c5a77e8d2f4219"
  },
  "kernelspec": {
   "display_name": "Python 3.9.7 ('ls-hw2')",
   "language": "python",
   "name": "python3"
  },
  "language_info": {
   "codemirror_mode": {
    "name": "ipython",
    "version": 3
   },
   "file_extension": ".py",
   "mimetype": "text/x-python",
   "name": "python",
   "nbconvert_exporter": "python",
   "pygments_lexer": "ipython3",
   "version": "3.9.7"
  },
  "orig_nbformat": 4
 },
 "nbformat": 4,
 "nbformat_minor": 2
}
