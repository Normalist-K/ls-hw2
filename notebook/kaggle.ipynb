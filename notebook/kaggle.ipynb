{
 "cells": [
  {
   "cell_type": "code",
   "execution_count": 1,
   "metadata": {},
   "outputs": [],
   "source": [
    "import os\n",
    "import pandas as pd"
   ]
  },
  {
   "cell_type": "code",
   "execution_count": 2,
   "metadata": {},
   "outputs": [],
   "source": [
    "sub_dir = '/shared/youngkim/dataset/mlp'\n",
    "cnn_dir = os.path.join(sub_dir, 'cnn')\n",
    "sift_dir = os.path.join(sub_dir, 'sift')"
   ]
  },
  {
   "cell_type": "code",
   "execution_count": 8,
   "metadata": {},
   "outputs": [
    {
     "name": "stdout",
     "output_type": "stream",
     "text": [
      "version_0\n",
      "['hparams.yaml', 'events.out.tfevents.1646188316.youngkim21.2125115.0', 'checkpoints']\n",
      "version_1\n",
      "['checkpoints', 'hparams.yaml', 'events.out.tfevents.1646188407.youngkim21.2129740.0']\n",
      "version_2\n",
      "['hparams.yaml', 'checkpoints', 'events.out.tfevents.1646188529.youngkim21.2134450.0']\n",
      "version_3\n",
      "['hparams.yaml', 'events.out.tfevents.1646188681.youngkim21.2139404.0', 'checkpoints']\n",
      "version_4\n",
      "['hparams.yaml', 'events.out.tfevents.1646188986.youngkim21.2144898.0', 'checkpoints']\n",
      "version_5\n",
      "['events.out.tfevents.1646189371.youngkim21.2150804.0', 'checkpoints', 'hparams.yaml']\n",
      "version_6\n",
      "['checkpoints', 'events.out.tfevents.1646189482.youngkim21.2155660.0', 'hparams.yaml']\n",
      "version_7\n",
      "['events.out.tfevents.1646189730.youngkim21.2161320.0', 'checkpoints', 'hparams.yaml']\n",
      "version_8\n",
      "['hparams.yaml', 'events.out.tfevents.1646190001.youngkim21.2166194.1', 'checkpoints', 'test_prediction.csv', 'events.out.tfevents.1646189821.youngkim21.2166194.0']\n",
      "version_9\n",
      "['hparams.yaml', 'test_prediction.csv', 'checkpoints', 'events.out.tfevents.1646190154.youngkim21.2178125.0', 'events.out.tfevents.1646190535.youngkim21.2178125.1']\n"
     ]
    }
   ],
   "source": [
    "for folder in sorted(os.listdir(sift_dir)):\n",
    "    print(folder)\n",
    "    print(os.listdir(os.path.join(sift_dir,folder)))"
   ]
  },
  {
   "cell_type": "code",
   "execution_count": 5,
   "metadata": {},
   "outputs": [
    {
     "name": "stdout",
     "output_type": "stream",
     "text": [
      "version_0\n",
      "['events.out.tfevents.1646190685.youngkim21.2197588.0', 'checkpoints', 'events.out.tfevents.1646191359.youngkim21.2197588.1', 'test_prediction.csv', 'hparams.yaml']\n",
      "version_1\n",
      "['checkpoints', 'events.out.tfevents.1646192361.youngkim21.2230714.0', 'hparams.yaml']\n",
      "version_2\n",
      "['test_prediction.csv', 'checkpoints', 'events.out.tfevents.1646192413.youngkim21.2235233.0', 'hparams.yaml', 'events.out.tfevents.1646192853.youngkim21.2235233.1']\n"
     ]
    }
   ],
   "source": [
    "for folder in os.listdir(cnn_dir):\n",
    "    print(folder)\n",
    "    print(os.listdir(os.path.join(cnn_dir,folder)))"
   ]
  },
  {
   "cell_type": "code",
   "execution_count": 16,
   "metadata": {},
   "outputs": [],
   "source": [
    "sub_csv = os.path.join(sift_dir,'version_9/test_prediction.csv')"
   ]
  },
  {
   "cell_type": "code",
   "execution_count": 19,
   "metadata": {},
   "outputs": [
    {
     "data": {
      "text/html": [
       "<div>\n",
       "<style scoped>\n",
       "    .dataframe tbody tr th:only-of-type {\n",
       "        vertical-align: middle;\n",
       "    }\n",
       "\n",
       "    .dataframe tbody tr th {\n",
       "        vertical-align: top;\n",
       "    }\n",
       "\n",
       "    .dataframe thead th {\n",
       "        text-align: right;\n",
       "    }\n",
       "</style>\n",
       "<table border=\"1\" class=\"dataframe\">\n",
       "  <thead>\n",
       "    <tr style=\"text-align: right;\">\n",
       "      <th></th>\n",
       "      <th>Id</th>\n",
       "      <th>Category</th>\n",
       "    </tr>\n",
       "  </thead>\n",
       "  <tbody>\n",
       "    <tr>\n",
       "      <th>0</th>\n",
       "      <td>LTExODM2Mzc0ODQyOTc1ODE4NDM=</td>\n",
       "      <td>8</td>\n",
       "    </tr>\n",
       "    <tr>\n",
       "      <th>1</th>\n",
       "      <td>LTUwNDU3NzgyNjE2Mzk0OTU1NjQ=</td>\n",
       "      <td>5</td>\n",
       "    </tr>\n",
       "    <tr>\n",
       "      <th>2</th>\n",
       "      <td>ODU3OTE0MDU5NzM5NDI2MDQ2</td>\n",
       "      <td>14</td>\n",
       "    </tr>\n",
       "    <tr>\n",
       "      <th>3</th>\n",
       "      <td>LTQ4OTE2NDk5ODk4MTA3NDY5Mzg=</td>\n",
       "      <td>11</td>\n",
       "    </tr>\n",
       "    <tr>\n",
       "      <th>4</th>\n",
       "      <td>MjkzNzMwNzkxNTg5NDA1Mjk3NQ==</td>\n",
       "      <td>4</td>\n",
       "    </tr>\n",
       "    <tr>\n",
       "      <th>...</th>\n",
       "      <td>...</td>\n",
       "      <td>...</td>\n",
       "    </tr>\n",
       "    <tr>\n",
       "      <th>744</th>\n",
       "      <td>Nzk0NzA0MjYxMTg3NDkxNjQ4OQ==</td>\n",
       "      <td>8</td>\n",
       "    </tr>\n",
       "    <tr>\n",
       "      <th>745</th>\n",
       "      <td>LTMzMjA0NjkyNzYwMDQ0NDUyNzY=</td>\n",
       "      <td>3</td>\n",
       "    </tr>\n",
       "    <tr>\n",
       "      <th>746</th>\n",
       "      <td>LTQxNDgxNjU0MzY3OTQzNzIzMTc=</td>\n",
       "      <td>8</td>\n",
       "    </tr>\n",
       "    <tr>\n",
       "      <th>747</th>\n",
       "      <td>NjQyMjk5MDM5OTgwNzY2NDU1MQ==</td>\n",
       "      <td>11</td>\n",
       "    </tr>\n",
       "    <tr>\n",
       "      <th>748</th>\n",
       "      <td>LTk2NzY1NzIyNTY3MzIxMDkyOA==</td>\n",
       "      <td>2</td>\n",
       "    </tr>\n",
       "  </tbody>\n",
       "</table>\n",
       "<p>749 rows × 2 columns</p>\n",
       "</div>"
      ],
      "text/plain": [
       "                               Id  Category\n",
       "0    LTExODM2Mzc0ODQyOTc1ODE4NDM=         8\n",
       "1    LTUwNDU3NzgyNjE2Mzk0OTU1NjQ=         5\n",
       "2        ODU3OTE0MDU5NzM5NDI2MDQ2        14\n",
       "3    LTQ4OTE2NDk5ODk4MTA3NDY5Mzg=        11\n",
       "4    MjkzNzMwNzkxNTg5NDA1Mjk3NQ==         4\n",
       "..                            ...       ...\n",
       "744  Nzk0NzA0MjYxMTg3NDkxNjQ4OQ==         8\n",
       "745  LTMzMjA0NjkyNzYwMDQ0NDUyNzY=         3\n",
       "746  LTQxNDgxNjU0MzY3OTQzNzIzMTc=         8\n",
       "747  NjQyMjk5MDM5OTgwNzY2NDU1MQ==        11\n",
       "748  LTk2NzY1NzIyNTY3MzIxMDkyOA==         2\n",
       "\n",
       "[749 rows x 2 columns]"
      ]
     },
     "execution_count": 19,
     "metadata": {},
     "output_type": "execute_result"
    }
   ],
   "source": [
    "pd.read_csv(sub_csv)"
   ]
  },
  {
   "cell_type": "code",
   "execution_count": 20,
   "metadata": {},
   "outputs": [
    {
     "name": "stdout",
     "output_type": "stream",
     "text": [
      "100%|██████████████████████████████████████| 22.8k/22.8k [00:05<00:00, 4.22kB/s]\n",
      "Successfully submitted to HW2P1: Video-based MED"
     ]
    }
   ],
   "source": [
    "!kaggle competitions submit -c 11775-s22-hw1-p1 -f {sub_csv} -m \"sift\""
   ]
  },
  {
   "cell_type": "code",
   "execution_count": 3,
   "metadata": {},
   "outputs": [],
   "source": [
    "sub_csv = os.path.join(cnn_dir,'version_5/test_prediction.csv')"
   ]
  },
  {
   "cell_type": "code",
   "execution_count": 4,
   "metadata": {},
   "outputs": [
    {
     "name": "stdout",
     "output_type": "stream",
     "text": [
      "100%|██████████████████████████████████████| 22.7k/22.7k [00:05<00:00, 3.90kB/s]\n",
      "Successfully submitted to HW2P1: Video-based MED"
     ]
    }
   ],
   "source": [
    "!kaggle competitions submit -c 11775-s22-hw1-p1 -f {sub_csv} -m \"resnet50\""
   ]
  },
  {
   "cell_type": "code",
   "execution_count": null,
   "metadata": {},
   "outputs": [],
   "source": []
  }
 ],
 "metadata": {
  "interpreter": {
   "hash": "15f12055f1ef29a5453e4d58ba5168643ce1e0f0400ac5c4e1c5a77e8d2f4219"
  },
  "kernelspec": {
   "display_name": "Python 3.9.7 ('ls-hw2')",
   "language": "python",
   "name": "python3"
  },
  "language_info": {
   "codemirror_mode": {
    "name": "ipython",
    "version": 3
   },
   "file_extension": ".py",
   "mimetype": "text/x-python",
   "name": "python",
   "nbconvert_exporter": "python",
   "pygments_lexer": "ipython3",
   "version": "3.9.7"
  },
  "orig_nbformat": 4
 },
 "nbformat": 4,
 "nbformat_minor": 2
}
